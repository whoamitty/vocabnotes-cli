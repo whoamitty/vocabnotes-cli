{
 "cells": [
  {
   "cell_type": "code",
   "execution_count": 15,
   "id": "08a7d897-deee-412d-aa1d-39c3a26a13c6",
   "metadata": {
    "editable": true,
    "slideshow": {
     "slide_type": ""
    },
    "tags": []
   },
   "outputs": [
    {
     "name": "stdout",
     "output_type": "stream",
     "text": [
      "WordInfo(exists=False, line_number=None, line_content=None)\n"
     ]
    }
   ],
   "source": [
    "from translation import *\n",
    "word_info_default = WordInfo(exists=False)\n",
    "print(word_info_default)"
   ]
  },
  {
   "cell_type": "code",
   "execution_count": null,
   "id": "a5394460-c80e-488b-bdaf-678534dcbfd0",
   "metadata": {
    "editable": true,
    "slideshow": {
     "slide_type": ""
    },
    "tags": []
   },
   "outputs": [],
   "source": []
  }
 ],
 "metadata": {
  "kernelspec": {
   "display_name": "Python 3 (ipykernel)",
   "language": "python",
   "name": "python3"
  },
  "language_info": {
   "codemirror_mode": {
    "name": "ipython",
    "version": 3
   },
   "file_extension": ".py",
   "mimetype": "text/x-python",
   "name": "python",
   "nbconvert_exporter": "python",
   "pygments_lexer": "ipython3",
   "version": "3.10.12"
  }
 },
 "nbformat": 4,
 "nbformat_minor": 5
}
